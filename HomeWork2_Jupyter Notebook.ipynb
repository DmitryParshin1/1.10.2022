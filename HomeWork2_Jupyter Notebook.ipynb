{
  "nbformat": 4,
  "nbformat_minor": 0,
  "metadata": {
    "colab": {
      "provenance": [],
      "authorship_tag": "ABX9TyPoCtAdjOB6hyyUKPpmR2Qj",
      "include_colab_link": true
    },
    "kernelspec": {
      "name": "python3",
      "display_name": "Python 3"
    },
    "language_info": {
      "name": "python"
    }
  },
  "cells": [
    {
      "cell_type": "markdown",
      "metadata": {
        "id": "view-in-github",
        "colab_type": "text"
      },
      "source": [
        "<a href=\"https://colab.research.google.com/github/DmitryParshin1/1.10.2022/blob/master/HomeWork2_Jupyter%20Notebook.ipynb\" target=\"_parent\"><img src=\"https://colab.research.google.com/assets/colab-badge.svg\" alt=\"Open In Colab\"/></a>"
      ]
    },
    {
      "cell_type": "code",
      "execution_count": 1,
      "metadata": {
        "id": "YREyzJXuUfwu"
      },
      "outputs": [],
      "source": []
    },
    {
      "cell_type": "markdown",
      "source": [
        "## Условие 1:<br>\n",
        "Оформляйте ноутбук, используя эти советы:<br>\n",
        "Номер задачи - заголовок 2<br>\n",
        "Номер подзадачи - заголовок 3<br><br>\n",
        "Предоставленные наборы данных оформляйте, как код<br>\n",
        "Рекомендации для преподавателей по оценке задания:<br>\n",
        "Смотреть, чтобы студент красиво оформлял ноутбук, использовал ячейки с текстом, указывал номера заданий"
      ],
      "metadata": {
        "id": "G7Ay3oSNYUBC"
      }
    },
    {
      "cell_type": "markdown",
      "source": [
        "## Условие 2:<br>\n",
        "На складе лежат разные фрукты в разном количестве.<br>\n",
        "Нужно написать функцию, которая на вход принимает любое количество названий фруктов и их количество, а возвращает общее количество фруктов на складе"
      ],
      "metadata": {
        "id": "ottQHCVjY3VM"
      }
    },
    {
      "cell_type": "code",
      "source": [
        "def fruit(**kwargs):\n",
        "    sum_fruit = sum(kwargs.values())\n",
        "    return f'Общее колчество фруктов: {sum_fruit}'"
      ],
      "metadata": {
        "id": "iJUyZw3EY0Oc"
      },
      "execution_count": 2,
      "outputs": []
    },
    {
      "cell_type": "code",
      "source": [
        "fruit(banan = 5, apple = 9)"
      ],
      "metadata": {
        "colab": {
          "base_uri": "https://localhost:8080/",
          "height": 35
        },
        "id": "yPpcbhRfY0jG",
        "outputId": "189136a1-f697-4496-fdca-e3cad3f57dd1"
      },
      "execution_count": 3,
      "outputs": [
        {
          "output_type": "execute_result",
          "data": {
            "text/plain": [
              "'Общее колчество фруктов: 14'"
            ],
            "application/vnd.google.colaboratory.intrinsic+json": {
              "type": "string"
            }
          },
          "metadata": {},
          "execution_count": 3
        }
      ]
    },
    {
      "cell_type": "markdown",
      "source": [
        "## Условие 3:\n",
        "Дан список с затратами на рекламу. <br>Но в данных есть ошибки, некоторые затраты имеют отрицательную величину. <br>Удалите такие значения из списка и посчитайте суммарные затраты<br>\n",
        "[100, 125, -90, 345, 655, -1, 0, 200]<br>\n",
        "Используйте list comprehensions"
      ],
      "metadata": {
        "id": "WOcyg5pkZQaD"
      }
    },
    {
      "cell_type": "code",
      "source": [
        "Expenses = [100, 125, -90, 345, 655, -1, 0, 200]\n",
        "\n",
        "price = []\n",
        "\n",
        "for i in Expenses:\n",
        "  if i > 0:\n",
        "    price.append(i)\n",
        "  else: \n",
        "    price.append(0)\n",
        "\n",
        "sum_prise = sum(price)\n",
        "sum_prise"
      ],
      "metadata": {
        "colab": {
          "base_uri": "https://localhost:8080/"
        },
        "id": "DbpEk-dHY0rA",
        "outputId": "b8655d44-6d12-4d88-e92e-38426c4fabbc"
      },
      "execution_count": 7,
      "outputs": [
        {
          "output_type": "execute_result",
          "data": {
            "text/plain": [
              "1425"
            ]
          },
          "metadata": {},
          "execution_count": 7
        }
      ]
    },
    {
      "cell_type": "markdown",
      "source": [
        "list comprehensions"
      ],
      "metadata": {
        "id": "ExIySBjmbP99"
      }
    },
    {
      "cell_type": "code",
      "source": [
        "Expenses = [100, 125, -90, 345, 655, -1, 0, 200]\n",
        "price = [i if i > 0 else 0 for i in Expenses]\n",
        "sum_prise = sum(price)\n",
        "f'общее количество затрат: {sum_prise}'"
      ],
      "metadata": {
        "colab": {
          "base_uri": "https://localhost:8080/",
          "height": 35
        },
        "id": "FmB8OglsY0yR",
        "outputId": "f10d562b-637f-4934-ef1b-ece7e280fdd1"
      },
      "execution_count": 11,
      "outputs": [
        {
          "output_type": "execute_result",
          "data": {
            "text/plain": [
              "'общее количество затрат: 1425'"
            ],
            "application/vnd.google.colaboratory.intrinsic+json": {
              "type": "string"
            }
          },
          "metadata": {},
          "execution_count": 11
        }
      ]
    },
    {
      "cell_type": "markdown",
      "source": [
        "## Условие 4.1:<br>\n",
        "Даны два списка.<br>\n",
        "Дата покупки<br>\n",
        "['2021-09-14', '2021-12-15', '2021-09-08', '2021-12-05', '2021-10-09',<br> '2021-09-30', '2021-12-22', '2021-11-29', '2021-12-24', '2021-11-26',<br> '2021-10-27', '2021-12-18', '2021-11-09', '2021-11-23', '2021-09-27',<br> '2021-10-02', '2021-12-27', '2021-09-20', '2021-12-13', '2021-11-01',<br> '2021-11-09', '2021-12-06', '2021-12-08', '2021-10-09', '2021-10-31',<br> '2021-09-30', '2021-11-09', '2021-12-13', '2021-10-26', '2021-12-09']<br>\n",
        "\n",
        "Суммы покупок по датам<br>\n",
        "\n",
        "[1270, 8413, 9028, 3703, 5739, 4095, 295, 4944, 5723, 3701, 4471, 651, 7037, 4274, 6275, 4988, 6930, 2971, 6592, 2004, 2822, 519, 3406, 2732, 5015, 2008, 316, 6333, 5700, 2887]"
      ],
      "metadata": {
        "id": "V2TlSZLdclh-"
      }
    },
    {
      "cell_type": "code",
      "source": [],
      "metadata": {
        "id": "uVfC30PPY01J"
      },
      "execution_count": null,
      "outputs": []
    },
    {
      "cell_type": "markdown",
      "source": [
        "### 4.1 Найдите, какая выручка у компании в ноябре<br>\n",
        "Используйте list comprehensions<br>"
      ],
      "metadata": {
        "id": "_UFRzKPoc5Jt"
      }
    },
    {
      "cell_type": "code",
      "source": [
        "data = ['2021-09-14', '2021-12-15', '2021-09-08', '2021-12-05', '2021-10-09',\n",
        "'2021-09-30', '2021-12-22', '2021-11-29', '2021-12-24', '2021-11-26',\n",
        "'2021-10-27', '2021-12-18', '2021-11-09', '2021-11-23', '2021-09-27',\n",
        "'2021-10-02', '2021-12-27', '2021-09-20', '2021-12-13', '2021-11-01',\n",
        "'2021-11-09', '2021-12-06', '2021-12-08', '2021-10-09', '2021-10-31',\n",
        "'2021-09-30', '2021-11-09', '2021-12-13', '2021-10-26', '2021-12-09']\n",
        "\n",
        "gain = [1270, 8413, 9028, 3703, 5739, 4095, 295, 4944, 5723, 3701, 4471, 651, \n",
        "        7037, 4274, 6275, 4988, 6930, 2971, 6592, 2004, 2822, 519, 3406, 2732, 5015, 2008, 316, 6333, 5700, 2887]"
      ],
      "metadata": {
        "id": "yCNI6RKNY04U"
      },
      "execution_count": 36,
      "outputs": []
    },
    {
      "cell_type": "code",
      "source": [
        "def november(data: list, gain: list) -> list:\n",
        "  new_data = []\n",
        "  for i in range(len(data)):\n",
        "    if '-11-' in data[i]:\n",
        "      new_data.append(gain[i])\n",
        "\n",
        "  return new_data"
      ],
      "metadata": {
        "id": "9lypvBTJsWw9"
      },
      "execution_count": 51,
      "outputs": []
    },
    {
      "cell_type": "code",
      "source": [
        "print(november(data, gain))\n",
        "print(f'выручка у компании в ноябре: {sum(november(data, gain))}')\n"
      ],
      "metadata": {
        "colab": {
          "base_uri": "https://localhost:8080/",
          "height": 204
        },
        "id": "cB3so5D-dAeW",
        "outputId": "bc6c7997-fd2d-4b10-d9be-fe4915ed530c"
      },
      "execution_count": 77,
      "outputs": [
        {
          "output_type": "stream",
          "name": "stdout",
          "text": [
            "[4944, 3701, 7037, 4274, 2004, 2822, 316]\n"
          ]
        },
        {
          "output_type": "error",
          "ename": "TypeError",
          "evalue": "ignored",
          "traceback": [
            "\u001b[0;31m---------------------------------------------------------------------------\u001b[0m",
            "\u001b[0;31mTypeError\u001b[0m                                 Traceback (most recent call last)",
            "\u001b[0;32m<ipython-input-77-456d4f525030>\u001b[0m in \u001b[0;36m<cell line: 2>\u001b[0;34m()\u001b[0m\n\u001b[1;32m      1\u001b[0m \u001b[0mprint\u001b[0m\u001b[0;34m(\u001b[0m\u001b[0mnovember\u001b[0m\u001b[0;34m(\u001b[0m\u001b[0mdata\u001b[0m\u001b[0;34m,\u001b[0m \u001b[0mgain\u001b[0m\u001b[0;34m)\u001b[0m\u001b[0;34m)\u001b[0m\u001b[0;34m\u001b[0m\u001b[0;34m\u001b[0m\u001b[0m\n\u001b[0;32m----> 2\u001b[0;31m \u001b[0mprint\u001b[0m\u001b[0;34m(\u001b[0m\u001b[0;34mf'выручка у компании в ноябре: {sum(november(data, gain))}'\u001b[0m\u001b[0;34m)\u001b[0m\u001b[0;34m\u001b[0m\u001b[0;34m\u001b[0m\u001b[0m\n\u001b[0m",
            "\u001b[0;31mTypeError\u001b[0m: 'list' object is not callable"
          ]
        }
      ]
    },
    {
      "cell_type": "code",
      "source": [
        "print([gain[i] for i in range(len(data)) if '-11-' in data[i]])\n",
        "print(f'выручка у компании в ноябре: {sum([gain[i] for i in range(len(data)) if \"-11-\" in data[i]])}')"
      ],
      "metadata": {
        "colab": {
          "base_uri": "https://localhost:8080/",
          "height": 204
        },
        "id": "Bd-1zB-LoKSK",
        "outputId": "a6f70de2-6fa7-44c1-afc2-29135898a70a"
      },
      "execution_count": 63,
      "outputs": [
        {
          "output_type": "stream",
          "name": "stdout",
          "text": [
            "[4944, 3701, 7037, 4274, 2004, 2822, 316]\n"
          ]
        },
        {
          "output_type": "error",
          "ename": "TypeError",
          "evalue": "ignored",
          "traceback": [
            "\u001b[0;31m---------------------------------------------------------------------------\u001b[0m",
            "\u001b[0;31mTypeError\u001b[0m                                 Traceback (most recent call last)",
            "\u001b[0;32m<ipython-input-63-0b0130283835>\u001b[0m in \u001b[0;36m<cell line: 2>\u001b[0;34m()\u001b[0m\n\u001b[1;32m      1\u001b[0m \u001b[0mprint\u001b[0m\u001b[0;34m(\u001b[0m\u001b[0;34m[\u001b[0m\u001b[0mgain\u001b[0m\u001b[0;34m[\u001b[0m\u001b[0mi\u001b[0m\u001b[0;34m]\u001b[0m \u001b[0;32mfor\u001b[0m \u001b[0mi\u001b[0m \u001b[0;32min\u001b[0m \u001b[0mrange\u001b[0m\u001b[0;34m(\u001b[0m\u001b[0mlen\u001b[0m\u001b[0;34m(\u001b[0m\u001b[0mdata\u001b[0m\u001b[0;34m)\u001b[0m\u001b[0;34m)\u001b[0m \u001b[0;32mif\u001b[0m \u001b[0;34m'-11-'\u001b[0m \u001b[0;32min\u001b[0m \u001b[0mdata\u001b[0m\u001b[0;34m[\u001b[0m\u001b[0mi\u001b[0m\u001b[0;34m]\u001b[0m\u001b[0;34m]\u001b[0m\u001b[0;34m)\u001b[0m\u001b[0;34m\u001b[0m\u001b[0;34m\u001b[0m\u001b[0m\n\u001b[0;32m----> 2\u001b[0;31m \u001b[0mprint\u001b[0m\u001b[0;34m(\u001b[0m\u001b[0;34mf'выручка у компании в ноябре: {sum([gain[i] for i in range(len(data)) if \"-11-\" in data[i]])}'\u001b[0m\u001b[0;34m)\u001b[0m\u001b[0;34m\u001b[0m\u001b[0;34m\u001b[0m\u001b[0m\n\u001b[0m",
            "\u001b[0;31mTypeError\u001b[0m: 'list' object is not callable"
          ]
        }
      ]
    },
    {
      "cell_type": "markdown",
      "source": [
        "### 4.2 Найдите выручку компании в зависимости от месяца<br>\n",
        "Для этого напишите функцию, которая на вход принимает список с датами и список с выручкой,<br> а на выходе словарь, где ключи - это месяцы, а значения - это выручка.<br>\n",
        "Используйте аннотирование типов."
      ],
      "metadata": {
        "id": "G9z-zz9CuqSJ"
      }
    },
    {
      "cell_type": "code",
      "source": [
        "def profit(data: list, gain: list) -> dict:\n",
        "  profit = {}\n",
        "\n",
        "  for i in range(len(data)):\n",
        "    if data[i].split('-')[1] in profit.keys():\n",
        "      profit[data[i].split('-')[1]] += gain[i]\n",
        "    else:\n",
        "      profit[data[i].split('-')[1]] = gain[i]\n",
        "  return profit\n",
        "\n",
        "print(profit(data, gain))"
      ],
      "metadata": {
        "colab": {
          "base_uri": "https://localhost:8080/"
        },
        "id": "riRHWtd7oKn5",
        "outputId": "e4c05bc0-6308-4905-81d8-3ba2b9a8d3aa"
      },
      "execution_count": 80,
      "outputs": [
        {
          "output_type": "stream",
          "name": "stdout",
          "text": [
            "{'09': 25647, '12': 45452, '10': 28645, '11': 25098}\n"
          ]
        }
      ]
    },
    {
      "cell_type": "code",
      "source": [],
      "metadata": {
        "id": "9IW9kuKnxHFA"
      },
      "execution_count": null,
      "outputs": []
    }
  ]
}